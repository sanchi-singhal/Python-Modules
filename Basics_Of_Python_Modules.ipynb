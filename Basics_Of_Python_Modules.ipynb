{
 "cells": [
  {
   "cell_type": "markdown",
   "id": "da96003b",
   "metadata": {},
   "source": [
    "# Python Modules"
   ]
  },
  {
   "cell_type": "markdown",
   "id": "6eb1a481",
   "metadata": {},
   "source": [
    "A python module is a file containing Python definitons and statements. A module can define functions, classes and variables. <br>\n",
    "###### Advantages of Modules: \n",
    "1. reusability <br>\n",
    "2. simplicity <br>\n",
    "3. scoping( a separate namespace is defined by a module that helps to avoid collisions between identifiers) <br>\n",
    "A namespace is a dictionary of variable names(keys) and their corresponding objects(values)."
   ]
  },
  {
   "cell_type": "markdown",
   "id": "aff20584",
   "metadata": {},
   "source": [
    "###### Locating Modules\n",
    "When you import a module, the Python interpreter searches for the module in the following \n",
    "sequences-<br>\n",
    "1.The current directory.<br>\n",
    "2.If the module is not found, Python then searches each directory in the shell variable \n",
    "PYTHONPATH.<br>\n",
    "3.If all else fails, Python checks the default path. On UNIX, this default path is \n",
    "normally /usr/local/lib/python3/.<br>\n",
    "The module search path is stored in the system module sys as the sys.path variable. The \n",
    "sys.path variable contains the current directory, PYTHONPATH, and the installation-dependent default.<br>\n",
    "(The PYTHONPATH is an environment variable, consisting of a list of directories)"
   ]
  },
  {
   "cell_type": "markdown",
   "id": "85ca1bd9",
   "metadata": {},
   "source": [
    "#### Types of Modules\n",
    "1.Built in modules <br>\n",
    "2. User defined modules"
   ]
  },
  {
   "cell_type": "markdown",
   "id": "00295c8b",
   "metadata": {},
   "source": [
    "###### Creating a module\n",
    "save with .py extension"
   ]
  },
  {
   "cell_type": "markdown",
   "id": "8270be4c",
   "metadata": {},
   "source": [
    "###### Using and Importing Python modules\n",
    "Method 1:   using import keyword <br>\n",
    "Method 2:   using from keyword <br>\n",
    "> a. using * <br>\n",
    "> b. using built in functions"
   ]
  },
  {
   "cell_type": "code",
   "execution_count": 1,
   "id": "11ab18fd",
   "metadata": {},
   "outputs": [],
   "source": [
    "import math\n",
    "from math import sin\n",
    "from math import *"
   ]
  },
  {
   "cell_type": "markdown",
   "id": "f9339e99",
   "metadata": {},
   "source": [
    "###### 1. import module_name\n",
    "importing whole module <br>\n",
    "use: module_name.function_name\n",
    "###### 2. from module_name import function_name\n",
    "to import specific attributes from a module without importing whole module <br>\n",
    "use: function_name\n",
    "###### 3. from module_name import *\n",
    "used to import all the names from a module to a current namespace <br>\n",
    "use: funtion_name   or   module_name.function_name"
   ]
  },
  {
   "cell_type": "code",
   "execution_count": 2,
   "id": "9c660891",
   "metadata": {},
   "outputs": [
    {
     "name": "stdout",
     "output_type": "stream",
     "text": [
      "True\n",
      "1\n",
      "1\n"
     ]
    }
   ],
   "source": [
    "# import math\n",
    "# print(math.gcd(1,4))\n",
    "from keyword import iskeyword\n",
    "print(iskeyword(\"and\"))\n",
    "from math import *\n",
    "print(gcd(5,6))\n",
    "print(math.gcd(5,6))\n"
   ]
  },
  {
   "cell_type": "code",
   "execution_count": 3,
   "id": "1262a66e",
   "metadata": {},
   "outputs": [
    {
     "name": "stdout",
     "output_type": "stream",
     "text": [
      "7\n",
      "9\n"
     ]
    }
   ],
   "source": [
    "import user_defined_module\n",
    "print(user_defined_module.addi(5,4)) \n",
    "# user_defined_module\n",
    "# def addi(x,y)\n",
    "#     return (x+y)"
   ]
  },
  {
   "cell_type": "markdown",
   "id": "f541bae4",
   "metadata": {},
   "source": [
    "##### Renaming the modules (Creating an alias)\n",
    "import module_name as new_name"
   ]
  },
  {
   "cell_type": "code",
   "execution_count": 4,
   "id": "ff315a78",
   "metadata": {},
   "outputs": [
    {
     "data": {
      "text/plain": [
       "1"
      ]
     },
     "execution_count": 4,
     "metadata": {},
     "output_type": "execute_result"
    }
   ],
   "source": [
    "import math as m\n",
    "m.gcd(4,5)"
   ]
  },
  {
   "cell_type": "markdown",
   "id": "5e393449",
   "metadata": {},
   "source": [
    "###### dir() function\n",
    "built in function which returns a sorted list of strings containing the names defined by a module. The list contains the names of all the modules, variables and functions defined in a module"
   ]
  },
  {
   "cell_type": "code",
   "execution_count": 5,
   "id": "a34e5ea8",
   "metadata": {},
   "outputs": [
    {
     "name": "stdout",
     "output_type": "stream",
     "text": [
      "['__doc__', '__loader__', '__name__', '__package__', '__spec__', 'acos', 'acosh', 'asin', 'asinh', 'atan', 'atan2', 'atanh', 'ceil', 'comb', 'copysign', 'cos', 'cosh', 'degrees', 'dist', 'e', 'erf', 'erfc', 'exp', 'expm1', 'fabs', 'factorial', 'floor', 'fmod', 'frexp', 'fsum', 'gamma', 'gcd', 'hypot', 'inf', 'isclose', 'isfinite', 'isinf', 'isnan', 'isqrt', 'ldexp', 'lgamma', 'log', 'log10', 'log1p', 'log2', 'modf', 'nan', 'perm', 'pi', 'pow', 'prod', 'radians', 'remainder', 'sin', 'sinh', 'sqrt', 'tan', 'tanh', 'tau', 'trunc']\n",
      "60\n"
     ]
    }
   ],
   "source": [
    "print(dir(math))     #it doesn't work for keyword module\n",
    "print(len(dir(math)))"
   ]
  },
  {
   "cell_type": "code",
   "execution_count": 6,
   "id": "ac5a50ec",
   "metadata": {},
   "outputs": [
    {
     "name": "stdout",
     "output_type": "stream",
     "text": [
      "\n",
      "Please wait a moment while I gather a list of all available modules...\n",
      "\n"
     ]
    },
    {
     "name": "stderr",
     "output_type": "stream",
     "text": [
      "C:\\Users\\sanch\\anaconda3\\lib\\site-packages\\IPython\\kernel\\__init__.py:12: ShimWarning: The `IPython.kernel` package has been deprecated since IPython 4.0.You should import from ipykernel or jupyter_client instead.\n",
      "  warn(\"The `IPython.kernel` package has been deprecated since IPython 4.0.\"\n",
      "WARNING: AstropyDeprecationWarning: The private astropy._erfa module has been made into its own package, pyerfa, which is a dependency of astropy and can be imported directly using \"import erfa\" [astropy._erfa]\n",
      "C:\\Users\\sanch\\anaconda3\\lib\\pkgutil.py:92: MatplotlibDeprecationWarning: \n",
      "The matplotlib.compat module was deprecated in Matplotlib 3.3 and will be removed two minor releases later.\n",
      "  __import__(info.name)\n",
      "C:\\Users\\sanch\\anaconda3\\lib\\site-packages\\nltk\\twitter\\__init__.py:21: UserWarning: The twython library has not been installed. Some functionality from the twitter package will not be available.\n",
      "  warnings.warn(\n",
      "C:\\Users\\sanch\\anaconda3\\lib\\site-packages\\skimage\\viewer\\utils\\__init__.py:1: UserWarning: Recommended matplotlib backend is `Agg` for full skimage.viewer functionality.\n",
      "  from .core import *\n",
      "C:\\Users\\sanch\\anaconda3\\lib\\site-packages\\qtawesome\\iconic_font.py:313: UserWarning: You need to have a running QApplication to use QtAwesome!\n",
      "  warnings.warn(\"You need to have a running \"\n",
      "C:\\Users\\sanch\\anaconda3\\lib\\pkgutil.py:107: VisibleDeprecationWarning: zmq.eventloop.minitornado is deprecated in pyzmq 14.0 and will be removed.\n",
      "    Install tornado itself to use zmq with the tornado IOLoop.\n",
      "    \n",
      "  yield from walk_packages(path, info.name+'.', onerror)\n"
     ]
    },
    {
     "name": "stdout",
     "output_type": "stream",
     "text": [
      "Cython              brain_scipy_signal  mailbox             sndhdr\n",
      "IPython             brain_six           mailcap             sniffio\n",
      "OpenSSL             brain_sqlalchemy    markdown            snowballstemmer\n",
      "PIL                 brain_ssl           markupsafe          socket\n",
      "Packages            brain_subprocess    marshal             socketserver\n",
      "PyQt5               brain_threading     math                socks\n",
      "__future__          brain_type          matplotlib          sockshandler\n",
      "_abc                brain_typing        mccabe              sortedcollections\n",
      "_ast                brain_uuid          menuinst            sortedcontainers\n",
      "_asyncio            brotli              mimetypes           soupsieve\n",
      "_bisect             bs4                 mistune             sphinx\n",
      "_black_version      builtins            mkl                 sphinxcontrib\n",
      "_blake2             bz2                 mkl_fft             spyder\n",
      "_bootlocale         cProfile            mkl_random          spyder_kernels\n",
      "_bz2                cachetools          mmap                sqlalchemy\n",
      "_cffi_backend       calendar            mmapfile            sqlite3\n",
      "_codecs             certifi             mmsystem            sre_compile\n",
      "_codecs_cn          cffi                mock                sre_constants\n",
      "_codecs_hk          cgi                 modulefinder        sre_parse\n",
      "_codecs_iso2022     cgitb               more_itertools      ssl\n",
      "_codecs_jp          chardet             mpmath              sspi\n",
      "_codecs_kr          chunk               msgpack             sspicon\n",
      "_codecs_tw          click               msilib              stat\n",
      "_collections        cloudpickle         msvcrt              statistics\n",
      "_collections_abc    clyent              multipledispatch    statsmodels\n",
      "_compat_pickle      cmath               multiprocessing     storemagic\n",
      "_compression        cmd                 mypy_extensions     string\n",
      "_contextvars        code                nacl                stringprep\n",
      "_csv                codecs              navigator_updater   struct\n",
      "_ctypes             codeop              nbclassic           subprocess\n",
      "_ctypes_test        collections         nbclient            sunau\n",
      "_datetime           colorama            nbconvert           symbol\n",
      "_decimal            colorsys            nbformat            sympy\n",
      "_distutils_hack     commctrl            nest_asyncio        sympyprinting\n",
      "_dummy_thread       compileall          netbios             symtable\n",
      "_elementtree        comtypes            netrc               sys\n",
      "_functools          concurrent          networkx            sysconfig\n",
      "_hashlib            conda               nltk                tables\n",
      "_heapq              conda_build         nntplib             tabnanny\n",
      "_imp                conda_content_trust nose                tarfile\n",
      "_io                 conda_env           notebook            tblib\n",
      "_json               conda_package_handling nt                  telnetlib\n",
      "_locale             conda_token         ntpath              tempfile\n",
      "_lsprof             conda_verify        ntsecuritycon       tensorboard\n",
      "_lzma               configparser        nturl2path          tensorboard_data_server\n",
      "_markupbase         contextlib          numba               tensorboard_plugin_wit\n",
      "_md5                contextlib2         numbers             tensorflow\n",
      "_msi                contextvars         numexpr             tensorflow_estimator\n",
      "_multibytecodec     copy                numpy               termcolor\n",
      "_multiprocessing    copyreg             numpydoc            terminado\n",
      "_nsis               crypt               oauthlib            test\n",
      "_opcode             cryptography        odbc                test_data\n",
      "_operator           csv                 olefile             test_pycosat\n",
      "_osx_support        ctypes              opcode              testpath\n",
      "_overlapped         curl                openpyxl            tests\n",
      "_pickle             curses              operator            textdistance\n",
      "_py_abc             cv2                 opt_einsum          textwrap\n",
      "_pydecimal          cwp                 optparse            this\n",
      "_pyio               cycler              os                  threading\n",
      "_pyrsistent_version cython              packaging           threadpoolctl\n",
      "_pytest             cythonmagic         pandas              three_merge\n",
      "_queue              cytoolz             pandocfilters       tifffile\n",
      "_random             dask                paramiko            time\n",
      "_sha1               dataclasses         parser              timeit\n",
      "_sha256             datetime            parso               timer\n",
      "_sha3               dateutil            partd               tkinter\n",
      "_sha512             dbi                 past                tlz\n",
      "_signal             dbm                 pasta               token\n",
      "_sitebuiltins       dde                 path                tokenize\n",
      "_socket             decimal             pathlib             toml\n",
      "_sqlite3            decorator           pathlib2            toolz\n",
      "_sre                defusedxml          pathspec            tornado\n",
      "_ssl                diff_match_patch    patsy               tqdm\n",
      "_stat               difflib             pdb                 trace\n",
      "_statistics         dis                 pep8                traceback\n",
      "_string             distributed         perfmon             tracemalloc\n",
      "_strptime           distutils           pexpect             traitlets\n",
      "_struct             doctest             pickle              tty\n",
      "_symtable           docutils            pickleshare         turtle\n",
      "_system_path        dummy_threading     pickletools         turtledemo\n",
      "_testbuffer         email               pip                 typed_ast\n",
      "_testcapi           encodings           pipes               types\n",
      "_testconsole        ensurepip           pkg_resources       typing\n",
      "_testimportmultiple entrypoints         pkginfo             typing_extensions\n",
      "_testinternalcapi   enum                pkgutil             ujson\n",
      "_testmultiphase     erfa                platform            unicodecsv\n",
      "_thread             errno               plistlib            unicodedata\n",
      "_threading_local    et_xmlfile          pluggy              unittest\n",
      "_tkinter            fastcache           ply                 urllib\n",
      "_tracemalloc        faulthandler        poplib              urllib3\n",
      "_warnings           filecmp             posixpath           user_defined_module\n",
      "_weakref            fileinput           pprint              uu\n",
      "_weakrefset         filelock            profile             uuid\n",
      "_win32sysloader     flake8              prometheus_client   venv\n",
      "_winapi             flask               prompt_toolkit      warnings\n",
      "_winxptheme         fnmatch             pstats              watchdog\n",
      "_xxsubinterpreters  formatter           psutil              wave\n",
      "_yaml               fractions           pty                 wcwidth\n",
      "abc                 fsspec              ptyprocess          weakref\n",
      "absl                ftplib              pvectorc            webbrowser\n",
      "adodbapi            functools           py                  webencodings\n",
      "afxres              future              py_compile          werkzeug\n",
      "aifc                gast                pyasn1              wheel\n",
      "alabaster           gc                  pyasn1_modules      widgetsnbextension\n",
      "anaconda_navigator  genericpath         pyclbr              win2kras\n",
      "anaconda_project    getopt              pycodestyle         win32api\n",
      "antigravity         getpass             pycosat             win32clipboard\n",
      "anyio               gettext             pycparser           win32com\n",
      "appdirs             gevent              pycurl              win32con\n",
      "argh                glob                pydoc               win32console\n",
      "argon2              glob2               pydoc_data          win32cred\n",
      "argparse            google_auth_oauthlib pydocstyle          win32crypt\n",
      "array               greenlet            pyexpat             win32cryptcon\n",
      "asn1crypto          grpc                pyflakes            win32ctypes\n",
      "ast                 gzip                pygments            win32event\n",
      "astor               h5py                pylab               win32evtlog\n",
      "astroid             hashlib             pylint              win32evtlogutil\n"
     ]
    },
    {
     "name": "stdout",
     "output_type": "stream",
     "text": [
      "astropy             heapdict            pyls                win32file\n",
      "astunparse          heapq               pyls_black          win32gui\n",
      "async_generator     hmac                pyls_jsonrpc        win32gui_struct\n",
      "asynchat            html                pyls_spyder         win32help\n",
      "asyncio             html5lib            pyodbc              win32inet\n",
      "asyncore            http                pyparsing           win32inetcon\n",
      "atexit              idlelib             pyreadline          win32job\n",
      "atomicwrites        idna                pyrsistent          win32lz\n",
      "attr                imagecodecs         pytest              win32net\n",
      "audioop             imageio             pythoncom           win32netcon\n",
      "autopep8            imagesize           pytz                win32pdh\n",
      "autoreload          imaplib             pywin               win32pdhquery\n",
      "babel               imghdr              pywin32_bootstrap   win32pdhutil\n",
      "backcall            imp                 pywin32_testutil    win32pipe\n",
      "backports           importlib           pywintypes          win32print\n",
      "base64              importlib_metadata  pywt                win32process\n",
      "bcrypt              iniconfig           pyximport           win32profile\n",
      "bdb                 inspect             qdarkstyle          win32ras\n",
      "binascii            intervaltree        qtawesome           win32rcparser\n",
      "binhex              io                  qtconsole           win32security\n",
      "binstar_client      ipaddress           qtpy                win32service\n",
      "bisect              ipykernel           queue               win32serviceutil\n",
      "bitarray            ipykernel_launcher  quopri              win32timezone\n",
      "bkcharts            ipython_genutils    random              win32trace\n",
      "black               ipywidgets          rasutil             win32traceutil\n",
      "blackd              isapi               re                  win32transaction\n",
      "bleach              isort               readline            win32ts\n",
      "blib2to3            isympy              regcheck            win32ui\n",
      "blinker             itertools           regex               win32uiole\n",
      "bokeh               itsdangerous        regutil             win32verstamp\n",
      "boto                jdcal               repo_cli            win32wnet\n",
      "bottleneck          jedi                reprlib             win_inet_pton\n",
      "brain_argparse      jinja2              requests            win_unicode_console\n",
      "brain_attrs         joblib              requests_oauthlib   wincertstore\n",
      "brain_boto3         json                rlcompleter         winerror\n",
      "brain_builtin_inference json5               rmagic              winioctlcon\n",
      "brain_collections   jsonschema          rope                winnt\n",
      "brain_crypt         jupyter             rsa                 winperf\n",
      "brain_curses        jupyter_client      rtree               winpty\n",
      "brain_dataclasses   jupyter_console     ruamel_yaml         winreg\n",
      "brain_dateutil      jupyter_core        run                 winsound\n",
      "brain_fstrings      jupyter_packaging   runpy               winxpgui\n",
      "brain_functools     jupyter_server      sched               winxptheme\n",
      "brain_gi            jupyterlab          scipy               wrapt\n",
      "brain_hashlib       jupyterlab_pygments scripts             wsgiref\n",
      "brain_http          jupyterlab_server   seaborn             xdrlib\n",
      "brain_hypothesis    jupyterlab_widgets  secrets             xlrd\n",
      "brain_io            jwt                 select              xlsxwriter\n",
      "brain_mechanize     keras               selectors           xlwings\n",
      "brain_multiprocessing keras_applications  send2trash          xlwt\n",
      "brain_namedtuple_enum keras_preprocessing servicemanager      xml\n",
      "brain_nose          keyring             setuptools          xmlrpc\n",
      "brain_numpy_core_fromnumeric keyword             shelve              xmltodict\n",
      "brain_numpy_core_function_base kiwisolver          shlex               xxsubtype\n",
      "brain_numpy_core_multiarray lazy_object_proxy   shutil              yaml\n",
      "brain_numpy_core_numeric lib2to3             signal              yapf\n",
      "brain_numpy_core_numerictypes libarchive          simplegeneric       yapftests\n",
      "brain_numpy_core_umath libfuturize         singledispatch      zict\n",
      "brain_numpy_ndarray libpasteurize       sip                 zipapp\n",
      "brain_numpy_random_mtrand lief                sipconfig           zipfile\n",
      "brain_numpy_utils   linecache           sipdistutils        zipimport\n",
      "brain_pkg_resources llvmlite            site                zipp\n",
      "brain_pytest        locale              six                 zlib\n",
      "brain_qt            locket              skimage             zmq\n",
      "brain_random        logging             sklearn             zope\n",
      "brain_re            lxml                smtpd               \n",
      "brain_responses     lzma                smtplib             \n",
      "\n",
      "Enter any module name to get more help.  Or, type \"modules spam\" to search\n",
      "for modules whose name or summary contain the string \"spam\".\n",
      "\n",
      "None\n"
     ]
    }
   ],
   "source": [
    "print(help('modules'))     # to get a list of all of the available modules in Python"
   ]
  },
  {
   "cell_type": "markdown",
   "id": "410067b8",
   "metadata": {},
   "source": [
    "##### Unloading a module in python\n",
    "Unloading a module in python is not possible yet."
   ]
  },
  {
   "cell_type": "code",
   "execution_count": null,
   "id": "72b69e31",
   "metadata": {},
   "outputs": [],
   "source": []
  }
 ],
 "metadata": {
  "kernelspec": {
   "display_name": "Python 3",
   "language": "python",
   "name": "python3"
  },
  "language_info": {
   "codemirror_mode": {
    "name": "ipython",
    "version": 3
   },
   "file_extension": ".py",
   "mimetype": "text/x-python",
   "name": "python",
   "nbconvert_exporter": "python",
   "pygments_lexer": "ipython3",
   "version": "3.8.8"
  }
 },
 "nbformat": 4,
 "nbformat_minor": 5
}
