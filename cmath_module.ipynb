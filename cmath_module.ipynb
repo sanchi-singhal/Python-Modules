{
 "cells": [
  {
   "cell_type": "markdown",
   "id": "88860376",
   "metadata": {},
   "source": [
    "## cmath Module"
   ]
  },
  {
   "cell_type": "markdown",
   "id": "a8a03a07",
   "metadata": {},
   "source": [
    "The methods in this module accepts int, float, and complex numbers. It even accepts Python objects that has a __complex__() or __float__() method.\n",
    "\n",
    "The methods in this module almost always return a complex number. If the return value can be expressed as a real number, the return value has an imaginary part of 0.\n",
    "\n",
    "(float, int are also complex numbers with 0 imaginary parts)<br>\n",
    "(complex number stores real and imaginary part as float by default)"
   ]
  },
  {
   "cell_type": "code",
   "execution_count": 20,
   "id": "1fc66ca6",
   "metadata": {},
   "outputs": [],
   "source": [
    "from cmath import *"
   ]
  },
  {
   "cell_type": "markdown",
   "id": "e07aad1a",
   "metadata": {},
   "source": [
    "#### cmath Constants"
   ]
  },
  {
   "cell_type": "code",
   "execution_count": 22,
   "id": "4fe69a13",
   "metadata": {},
   "outputs": [
    {
     "name": "stdout",
     "output_type": "stream",
     "text": [
      "2.718281828459045\n",
      "inf\n",
      "-inf\n",
      "infj\n",
      "(-0-infj)\n",
      "nan\n",
      "nanj\n",
      "3.141592653589793\n",
      "6.283185307179586\n"
     ]
    }
   ],
   "source": [
    "print(e)       #return value of euler's number(float)\n",
    "print(inf)     #returns floating-point positive infinity  (equivalent to float(\"inf\"))\n",
    "print(-inf)    #returns floating-point negative infinity\n",
    "print(infj)    # returns a complex positive infinity (0 as real part and positive infinity as imaginary part)(equivalent to comple(0.0,float(\"inf\")))\n",
    "print(-infj)   #returns a complex negative infinity (-0 as real part and negative infinity as imaginary part )\n",
    "print(nan)     # returns a floating-point nan(not a number/ illegal number)(equivalent to math.nan or float(\"nan\"))\n",
    "print(nanj)    # returns a complex nan value( 0 as real part and nan as imaginary part)(equivalent to complex(0.0,float(\"nan\")))\n",
    "print(pi)      #return value of pi(float)\n",
    "print(tau)     #return value of tau(float)\n",
    "#tau is defined as the ratio of the circumference to radius of circle(2pi)\n",
    "#pi is defined as the ratio of circumference to diameter of circle."
   ]
  },
  {
   "cell_type": "markdown",
   "id": "3734933d",
   "metadata": {},
   "source": [
    "##### Conversion to and from polar coordinates\n"
   ]
  },
  {
   "cell_type": "markdown",
   "id": "c0e6e2a8",
   "metadata": {},
   "source": [
    "###### phase(x):\n",
    "input: a complex number<br>\n",
    "return: phase of complex number(float, value between -pi to pi) <br>\n",
    "###### polar(x): \n",
    "convert to polar coordinates<br>\n",
    "input: a complex number<br>\n",
    "return: a tuple of modulus and phase\n",
    "###### rect(r,phi): \n",
    "convert polar coordinates to rectangular form of complex number\n",
    "input: r:modulus , phi : phase <br>\n",
    "return : a complex number<br>\n",
    "equivalent to r*(math.cos(phi)+math.sin(phi)*1j)"
   ]
  },
  {
   "cell_type": "code",
   "execution_count": 23,
   "id": "3dd43fee",
   "metadata": {},
   "outputs": [
    {
     "name": "stdout",
     "output_type": "stream",
     "text": [
      "0.982793723247329\n",
      "(3.605551275463989, 0.982793723247329)\n",
      "(-1.9799849932008908+0.2822400161197344j)\n"
     ]
    }
   ],
   "source": [
    "print(phase(2+3j))\n",
    "print(polar(2+3j))\n",
    "print(rect(2,3))"
   ]
  },
  {
   "cell_type": "markdown",
   "id": "f054d3db",
   "metadata": {},
   "source": [
    "#### Power and Loagarithmic Functions"
   ]
  },
  {
   "cell_type": "markdown",
   "id": "07165055",
   "metadata": {},
   "source": [
    "##### exp(x):\n",
    "input: a complex number<br>\n",
    "return: a complex exponential value (e**x) \n",
    "##### log(x,base):\n",
    "input:(complex number) >x: value for which log to be calculated (0 or negative number-- ValueError )(not number-- Type Error)  > base:(optional) default is \"e\".<br>\n",
    "return : loagrithm value of x to base (complex)\n",
    "##### log10(x):\n",
    "same as log (x,base) where base=10\n",
    "##### sqrt(x):\n",
    "input: complex number(>=0)<br>\n",
    "return: square root of given number(complex)"
   ]
  },
  {
   "cell_type": "code",
   "execution_count": 29,
   "id": "783c8f49",
   "metadata": {},
   "outputs": [
    {
     "name": "stdout",
     "output_type": "stream",
     "text": [
      "(7.38905609893065+0j)\n",
      "(0.925109929535273+0.708935815372861j)\n",
      "(1.2824746787307684+0.982793723247329j)\n",
      "(0.5569716761534184+0.42682189085546657j)\n",
      "(6.708203932499369+0j)\n"
     ]
    }
   ],
   "source": [
    "print(exp(2+0j))\n",
    "print(log(2+3j,4))\n",
    "print(log(2+3j))\n",
    "print(log10(2+3j))\n",
    "print(sqrt(45))"
   ]
  },
  {
   "cell_type": "markdown",
   "id": "2b3e7af0",
   "metadata": {},
   "source": [
    "##### Trignometric and Hyperbolic functions"
   ]
  },
  {
   "cell_type": "markdown",
   "id": "1576a26f",
   "metadata": {},
   "source": [
    "input: a number to which we have to find<br>\n",
    "return: complex value <br>\n",
    "sin(x) <br>\n",
    "asin(x) <br>\n",
    "sinh(x)<br>\n",
    "asinh(x) <br>\n",
    "cos(x)<br>\n",
    "acos(x)<br>\n",
    "cosh(x)<br>\n",
    "acosh(x)<br>\n",
    "tan(x)<br>\n",
    "atan(x)<br>\n",
    "tanh(x)<br>\n",
    "atanh(x)"
   ]
  },
  {
   "cell_type": "code",
   "execution_count": 32,
   "id": "15e64e22",
   "metadata": {},
   "outputs": [
    {
     "name": "stdout",
     "output_type": "stream",
     "text": [
      "(9.15449914691143-4.168906959966565j)\n",
      "(0.5706527843210994+1.9833870299165355j)\n",
      "(-3.5905645899857794+0.5309210862485197j)\n",
      "(-4.189625690968807-9.109227893755337j)\n",
      "(1.0001435424737972-1.9833870299165355j)\n",
      "(-0.003764025641504249+1.00323862735361j)\n",
      "(1.4099210495965755+0.22907268296853878j)\n"
     ]
    }
   ],
   "source": [
    "print(sin(2+3j))\n",
    "print(asin(2+3j))\n",
    "print(sinh(2+3j))\n",
    "print(cos(2+3j))\n",
    "print(acos(2+3j))\n",
    "print(tan(2+3j))\n",
    "print(atan(2+3j))"
   ]
  },
  {
   "cell_type": "markdown",
   "id": "0fbdc8ee",
   "metadata": {},
   "source": [
    "#### Classification Functions"
   ]
  },
  {
   "cell_type": "markdown",
   "id": "69508942",
   "metadata": {},
   "source": [
    "input: a number\n",
    "##### isfinite(x):\n",
    "to check whether a complex value is finite or not.<br>\n",
    "return: Boolean Value (True: both real and imaginary parts are finite)\n",
    "##### isinf(x):\n",
    "to check whether a complex value is infinite or not<br>\n",
    "return: Boolean Value(True: either or both real and imaginary part are infinty)\n",
    "##### isnan(x):\n",
    "check whether a value is nan<br>\n",
    "return: Boolean Value(True: either or both real and imaginary part are nan)\n",
    "##### isclose(a,b,rel_tol=value,abs_tol=value):\n",
    "to check whether two complex values are close or not.<br>\n",
    "return: Boolean Value (cheat rule: True on same a and b(most probably)<br>\n",
    "rel_tol(optional):maximum allowed difference between a and b (default 1e-09)<br>\n",
    "abs_tol(optional):minimum absolute tolerance, to compare value near 0. it must be atleast 0<br>\n",
    "Formula: abs(a-b) <= max(rel_tol * max(abs(a), abs(b)), abs_tol)."
   ]
  },
  {
   "cell_type": "code",
   "execution_count": 35,
   "id": "01d617f6",
   "metadata": {},
   "outputs": [
    {
     "name": "stdout",
     "output_type": "stream",
     "text": [
      "True\n",
      "False\n",
      "False\n",
      "False\n",
      "True\n"
     ]
    }
   ],
   "source": [
    "print(isfinite(2+3j))\n",
    "print(isinf(2+3j))\n",
    "print(isnan(2+3j))\n",
    "print(isclose(10+5j,10.01+5j))\n",
    "print(isclose(2+3j,2+3j))"
   ]
  },
  {
   "cell_type": "code",
   "execution_count": null,
   "id": "98c99303",
   "metadata": {},
   "outputs": [],
   "source": []
  }
 ],
 "metadata": {
  "kernelspec": {
   "display_name": "Python 3",
   "language": "python",
   "name": "python3"
  },
  "language_info": {
   "codemirror_mode": {
    "name": "ipython",
    "version": 3
   },
   "file_extension": ".py",
   "mimetype": "text/x-python",
   "name": "python",
   "nbconvert_exporter": "python",
   "pygments_lexer": "ipython3",
   "version": "3.8.8"
  }
 },
 "nbformat": 4,
 "nbformat_minor": 5
}
