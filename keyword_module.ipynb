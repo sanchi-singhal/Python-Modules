{
 "cells": [
  {
   "cell_type": "markdown",
   "id": "1ea1075d",
   "metadata": {},
   "source": [
    "# keyword module"
   ]
  },
  {
   "cell_type": "code",
   "execution_count": 1,
   "id": "b91a5033",
   "metadata": {},
   "outputs": [],
   "source": [
    "## to know about the reserved words or keywords of Python and to check whether the value of a variable is reserved word or not."
   ]
  },
  {
   "cell_type": "code",
   "execution_count": 2,
   "id": "c501af65",
   "metadata": {},
   "outputs": [],
   "source": [
    "import keyword"
   ]
  },
  {
   "cell_type": "code",
   "execution_count": 3,
   "id": "d9c9de7b",
   "metadata": {},
   "outputs": [
    {
     "name": "stdout",
     "output_type": "stream",
     "text": [
      "False\n",
      "True\n"
     ]
    }
   ],
   "source": [
    "'''\n",
    "1. keyword.iskeyword(string): returns True if string is a Python keyword\n",
    "'''\n",
    "print(keyword.iskeyword(\"hii\"))\n",
    "print(keyword.iskeyword(\"and\"))"
   ]
  },
  {
   "cell_type": "code",
   "execution_count": 4,
   "id": "4058df0d",
   "metadata": {},
   "outputs": [
    {
     "name": "stdout",
     "output_type": "stream",
     "text": [
      "['False', 'None', 'True', 'and', 'as', 'assert', 'async', 'await', 'break', 'class', 'continue', 'def', 'del', 'elif', 'else', 'except', 'finally', 'for', 'from', 'global', 'if', 'import', 'in', 'is', 'lambda', 'nonlocal', 'not', 'or', 'pass', 'raise', 'return', 'try', 'while', 'with', 'yield']\n",
      "35\n"
     ]
    }
   ],
   "source": [
    "'''\n",
    "2. keyword.kwlist: gives a list of all reserved words in Python\n",
    "'''\n",
    "print(keyword.kwlist)\n",
    "print(len(keyword.kwlist))  #total number of reserved words in python"
   ]
  },
  {
   "cell_type": "code",
   "execution_count": null,
   "id": "827036f6",
   "metadata": {},
   "outputs": [],
   "source": []
  },
  {
   "cell_type": "code",
   "execution_count": null,
   "id": "587b11fe",
   "metadata": {},
   "outputs": [],
   "source": []
  }
 ],
 "metadata": {
  "kernelspec": {
   "display_name": "Python 3",
   "language": "python",
   "name": "python3"
  },
  "language_info": {
   "codemirror_mode": {
    "name": "ipython",
    "version": 3
   },
   "file_extension": ".py",
   "mimetype": "text/x-python",
   "name": "python",
   "nbconvert_exporter": "python",
   "pygments_lexer": "ipython3",
   "version": "3.8.8"
  }
 },
 "nbformat": 4,
 "nbformat_minor": 5
}
